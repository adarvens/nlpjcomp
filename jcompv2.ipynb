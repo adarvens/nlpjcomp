{
  "nbformat": 4,
  "nbformat_minor": 0,
  "metadata": {
    "colab": {
      "provenance": [],
      "authorship_tag": "ABX9TyNJkUJoNEcTkFT4JSkxOIdA",
      "include_colab_link": true
    },
    "kernelspec": {
      "name": "python3",
      "display_name": "Python 3"
    },
    "language_info": {
      "name": "python"
    }
  },
  "cells": [
    {
      "cell_type": "markdown",
      "metadata": {
        "id": "view-in-github",
        "colab_type": "text"
      },
      "source": [
        "<a href=\"https://colab.research.google.com/github/adarvens/nlpjcomp/blob/main/jcompv2.ipynb\" target=\"_parent\"><img src=\"https://colab.research.google.com/assets/colab-badge.svg\" alt=\"Open In Colab\"/></a>"
      ]
    },
    {
      "cell_type": "code",
      "execution_count": 15,
      "metadata": {
        "id": "5aJUO4hNhUb0"
      },
      "outputs": [],
      "source": [
        "import string\n",
        "import array\n",
        "import re\n",
        "from numpy import array, argmax, random, take\n",
        "import pandas as pd\n",
        "from keras.models import Sequential\n",
        "from keras.layers import Dense, LSTM, Embedding, Bidirectional, RepeatVector, TimeDistributed\n",
        "from keras.preprocessing.text import Tokenizer\n",
        "from keras.callbacks import ModelCheckpoint\n",
        "from keras_preprocessing.sequence import pad_sequences\n",
        "from keras.models import load_model\n",
        "from keras import optimizers\n",
        "import matplotlib.pyplot as plt\n",
        "import numpy as np\n",
        "import tensorflow as tf\n",
        "%matplotlib inline\n",
        "pd.set_option('display.max_colwidth', 200)"
      ]
    },
    {
      "cell_type": "code",
      "source": [
        "def read_text(filename):\n",
        "    # open the file\n",
        "    file = open(filename, mode='rt', encoding='utf-8')\n",
        "    # read all text\n",
        "    text = file.read()\n",
        "    file.close()\n",
        "    return text"
      ],
      "metadata": {
        "id": "MC-7GhVAiCsd"
      },
      "execution_count": 4,
      "outputs": []
    },
    {
      "cell_type": "code",
      "source": [
        "# split a text into sentences\n",
        "def to_lines(text):\n",
        "    sents = text.strip().split('\\n')\n",
        "    sents = [i.split('\\t') for i in sents]\n",
        "    return sents"
      ],
      "metadata": {
        "id": "SqjqUai7iJEb"
      },
      "execution_count": 5,
      "outputs": []
    },
    {
      "cell_type": "code",
      "source": [
        "from google.colab import drive\n",
        "drive.mount('/content/drive')"
      ],
      "metadata": {
        "colab": {
          "base_uri": "https://localhost:8080/"
        },
        "id": "UglQ1rkQibwB",
        "outputId": "f542b055-f359-47c3-d7c3-ff3b4351a031"
      },
      "execution_count": 6,
      "outputs": [
        {
          "output_type": "stream",
          "name": "stdout",
          "text": [
            "Mounted at /content/drive\n"
          ]
        }
      ]
    },
    {
      "cell_type": "markdown",
      "source": [
        "for tamil"
      ],
      "metadata": {
        "id": "8PJb1AR8iLfa"
      }
    },
    {
      "cell_type": "code",
      "source": [
        "data = read_text(\"/content/drive/MyDrive/pairs/mkb.ta\")\n",
        "tamil = to_lines(data)\n",
        "tamil = array(tamil)"
      ],
      "metadata": {
        "id": "MCtjArTuiNZw"
      },
      "execution_count": 16,
      "outputs": []
    },
    {
      "cell_type": "code",
      "source": [
        "tamil[0][0]"
      ],
      "metadata": {
        "colab": {
          "base_uri": "https://localhost:8080/",
          "height": 36
        },
        "id": "Wp6ZL8JIiz5x",
        "outputId": "90ab2f50-9308-487e-ccea-14d6ea158f07"
      },
      "execution_count": 18,
      "outputs": [
        {
          "output_type": "execute_result",
          "data": {
            "text/plain": [
              "'மனதின் குரல், அக்டோபர் 2019'"
            ],
            "application/vnd.google.colaboratory.intrinsic+json": {
              "type": "string"
            }
          },
          "metadata": {},
          "execution_count": 18
        }
      ]
    },
    {
      "cell_type": "markdown",
      "source": [
        "for telugu"
      ],
      "metadata": {
        "id": "2pw7oDaHjAhv"
      }
    },
    {
      "cell_type": "code",
      "source": [
        "data = read_text(\"/content/drive/MyDrive/pairs/mkb.te\")\n",
        "telugu = to_lines(data)\n",
        "telugu = array(telugu)"
      ],
      "metadata": {
        "id": "qVI31u0ui_87"
      },
      "execution_count": 11,
      "outputs": []
    },
    {
      "cell_type": "code",
      "source": [
        "telugu[0][0]"
      ],
      "metadata": {
        "colab": {
          "base_uri": "https://localhost:8080/",
          "height": 36
        },
        "id": "mGFXlEAGi96i",
        "outputId": "8aaca717-1fb4-4433-d609-0a5a299ae0f8"
      },
      "execution_count": 22,
      "outputs": [
        {
          "output_type": "execute_result",
          "data": {
            "text/plain": [
              "'మన్ కి బాట్, అక్టోబర్ 2019'"
            ],
            "application/vnd.google.colaboratory.intrinsic+json": {
              "type": "string"
            }
          },
          "metadata": {},
          "execution_count": 22
        }
      ]
    },
    {
      "cell_type": "code",
      "source": [
        "ta_te=[]\n",
        "# for i in tamil:\n",
        "#   for j in telugu:\n",
        "for i in range(len(tamil)):\n",
        "  tmp=[]\n",
        "  tmp.append(telugu[i][0])\n",
        "  tmp.append(tamil[i][0])\n",
        "  ta_te.append(tmp)"
      ],
      "metadata": {
        "id": "7TG5MH41jPPY"
      },
      "execution_count": 23,
      "outputs": []
    },
    {
      "cell_type": "code",
      "source": [
        "ta_te[:2]"
      ],
      "metadata": {
        "colab": {
          "base_uri": "https://localhost:8080/"
        },
        "id": "pjx4jdyblX2u",
        "outputId": "d73111a2-3fb5-490d-84d1-6163c12c336c"
      },
      "execution_count": 24,
      "outputs": [
        {
          "output_type": "execute_result",
          "data": {
            "text/plain": [
              "[['మన్ కి బాట్, అక్టోబర్ 2019', 'மனதின் குரல், அக்டோபர் 2019'],\n",
              " ['సహచరులారా, ప్రపంచంలో ఫెస్టివల్ టూరిజానికి ఒక ప్రత్యేక ఆకర్షణ ఉంది.',\n",
              "  'நண்பர்களே, உலகத்தில் பண்டிகைச் சுற்றுலா எனும் போதே ஒரு ஈர்ப்பு ஏற்பட்டு விடுகிறது.']]"
            ]
          },
          "metadata": {},
          "execution_count": 24
        }
      ]
    },
    {
      "cell_type": "markdown",
      "source": [
        "text processing"
      ],
      "metadata": {
        "id": "McoW7bzylnLu"
      }
    },
    {
      "cell_type": "code",
      "source": [
        "ta_te = np.array(ta_te)\n",
        "ta_te[:,0] = [s.translate(str.maketrans('', '', string.punctuation)) for s in ta_te[:,0]]\n",
        "ta_te[:,1] = [s.translate(str.maketrans('', '', string.punctuation)) for s in ta_te[:,1]]"
      ],
      "metadata": {
        "id": "xkmih7yllkO0"
      },
      "execution_count": 26,
      "outputs": []
    },
    {
      "cell_type": "code",
      "source": [
        "ta_te"
      ],
      "metadata": {
        "colab": {
          "base_uri": "https://localhost:8080/"
        },
        "id": "fMahAmrvmflq",
        "outputId": "d15e21ed-20d9-4db2-eb81-51b61b8604a7"
      },
      "execution_count": 27,
      "outputs": [
        {
          "output_type": "execute_result",
          "data": {
            "text/plain": [
              "array([['మన్ కి బాట్ అక్టోబర్ 2019', 'மனதின் குரல் அக்டோபர் 2019'],\n",
              "       ['సహచరులారా ప్రపంచంలో ఫెస్టివల్ టూరిజానికి ఒక ప్రత్యేక ఆకర్షణ ఉంది',\n",
              "        'நண்பர்களே உலகத்தில் பண்டிகைச் சுற்றுலா எனும் போதே ஒரு ஈர்ப்பு ஏற்பட்டு விடுகிறது'],\n",
              "       ['మన భారత్ లో దేశీయ పండుగలలో ఫెస్టివల్ జానికి అపారమైన అవకాశాలున్నాయి',\n",
              "        ' இதில் பண்டிகைச் சுற்றுலாவுக்கு ஏராளமான சாத்தியக்கூறுகள் இருக்கின்றன'],\n",
              "       ...,\n",
              "       ['దేశ అభివృధ్ధిలో మీ అభివృధ్ధే ఒక ముఖ్యమైన భాగం',\n",
              "        'நாட்டின் முன்னேற்றத்திற்கு உங்களின் முன்னேற்றம் மிகவும் அவசியமாகும்'],\n",
              "       ['మీకు ఎంత అభివృధ్ధి జరిగితే దేశం అంతగా ప్రగతిని సాధిస్తుంది',\n",
              "        'நீங்கள் வளர்ச்சியடைந்தால் இந்த நாடும் வளர்ச்சியடையும்'],\n",
              "       ['మీ అందరికీ నా అనేకానేక శుభాకాంక్షలు',\n",
              "        'உங்கள் அனைவருக்கும் எனது நல்வாழ்த்துகள்']], dtype='<U412')"
            ]
          },
          "metadata": {},
          "execution_count": 27
        }
      ]
    },
    {
      "cell_type": "code",
      "source": [
        "tel_l = []\n",
        "tam_l = []\n",
        "\n",
        "# populate the lists with sentence lengths\n",
        "for i in ta_te[:,0]:\n",
        "    tel_l.append(len(i.split()))\n",
        "\n",
        "for i in ta_te[:,1]:\n",
        "    tam_l.append(len(i.split()))"
      ],
      "metadata": {
        "id": "GjfbfopJmu7F"
      },
      "execution_count": 31,
      "outputs": []
    },
    {
      "cell_type": "code",
      "source": [
        "length_df = pd.DataFrame({'tel':tel_l, 'tam':tam_l})"
      ],
      "metadata": {
        "id": "e0qQqVMwnGWa"
      },
      "execution_count": 33,
      "outputs": []
    },
    {
      "cell_type": "code",
      "source": [
        "length_df.hist(bins = 40)\n",
        "plt.show()"
      ],
      "metadata": {
        "colab": {
          "base_uri": "https://localhost:8080/",
          "height": 281
        },
        "id": "8q2sa9gWnSAn",
        "outputId": "f1651362-0a08-4aa3-a458-a329fcaedd50"
      },
      "execution_count": 38,
      "outputs": [
        {
          "output_type": "display_data",
          "data": {
            "text/plain": [
              "<Figure size 432x288 with 2 Axes>"
            ],
            "image/png": "[encoded data removed]"
          },
          "metadata": {
            "needs_background": "light"
          }
        }
      ]
    },
    {
      "cell_type": "markdown",
      "source": [
        "max of telugu is 42 and that of tamil 44"
      ],
      "metadata": {
        "id": "HuJ7iZfwnh6h"
      }
    },
    {
      "cell_type": "code",
      "source": [
        "def tokenization(lines):\n",
        "    tokenizer = Tokenizer()\n",
        "    tokenizer.fit_on_texts(lines)\n",
        "    return tokenizer"
      ],
      "metadata": {
        "id": "XdFGbOTonddq"
      },
      "execution_count": 35,
      "outputs": []
    },
    {
      "cell_type": "code",
      "source": [
        "tel_tokenizer = tokenization(ta_te[:, 0])\n",
        "tel_vocab_size = len(tel_tokenizer.word_index) + 1\n",
        "\n",
        "tel_length = 42\n",
        "print('Telugu Vocabulary Size: %d' % tel_vocab_size)"
      ],
      "metadata": {
        "colab": {
          "base_uri": "https://localhost:8080/"
        },
        "id": "xiyL0Rc-nq4K",
        "outputId": "430d337f-a39c-47b2-99e2-060447481645"
      },
      "execution_count": 39,
      "outputs": [
        {
          "output_type": "stream",
          "name": "stdout",
          "text": [
            "Telugu Vocabulary Size: 13300\n"
          ]
        }
      ]
    },
    {
      "cell_type": "code",
      "source": [
        "tam_tokenizer = tokenization(ta_te[:, 1])\n",
        "tam_vocab_size = len(tam_tokenizer.word_index) + 1\n",
        "\n",
        "tam_length = 8\n",
        "print('Tamil Vocabulary Size: %d' % tam_vocab_size)"
      ],
      "metadata": {
        "colab": {
          "base_uri": "https://localhost:8080/"
        },
        "id": "kcNuWaAeoUfL",
        "outputId": "f19f25d2-0bfb-4998-dedd-f71ab986af00"
      },
      "execution_count": 43,
      "outputs": [
        {
          "output_type": "stream",
          "name": "stdout",
          "text": [
            "Tamil Vocabulary Size: 13339\n"
          ]
        }
      ]
    },
    {
      "cell_type": "code",
      "source": [
        "def encode_sequences(tokenizer, length, lines):\n",
        "    # integer encode sequences\n",
        "    seq = tokenizer.texts_to_sequences(lines)\n",
        "    # pad sequences with 0 values\n",
        "    seq = pad_sequences(seq, maxlen=length, padding='post')\n",
        "    return seq"
      ],
      "metadata": {
        "id": "XST0sh-koh-_"
      },
      "execution_count": 44,
      "outputs": []
    },
    {
      "cell_type": "markdown",
      "source": [
        "model"
      ],
      "metadata": {
        "id": "1cdW7Z_Rosd3"
      }
    },
    {
      "cell_type": "code",
      "source": [
        "from sklearn.model_selection import train_test_split\n",
        "train, test = train_test_split(ta_te, test_size=0.2, random_state = 12)"
      ],
      "metadata": {
        "id": "lw_N-N9GorgP"
      },
      "execution_count": 45,
      "outputs": []
    },
    {
      "cell_type": "code",
      "source": [
        "trainX = encode_sequences(tam_tokenizer, tam_length, train[:, 1])\n",
        "trainY = encode_sequences(tel_tokenizer, tel_length, train[:, 0])"
      ],
      "metadata": {
        "id": "VPCncEwwo3PN"
      },
      "execution_count": 46,
      "outputs": []
    },
    {
      "cell_type": "code",
      "source": [
        "#validation set\n",
        "testX = encode_sequences(tam_tokenizer, tam_length, test[:, 1])\n",
        "testY = encode_sequences(tel_tokenizer, tel_length, test[:, 0])"
      ],
      "metadata": {
        "id": "xPf1Eae0pJXL"
      },
      "execution_count": 47,
      "outputs": []
    },
    {
      "cell_type": "code",
      "source": [
        "def build_model(in_vocab, out_vocab, in_timesteps, out_timesteps, units):\n",
        "    model = Sequential()\n",
        "    model.add(Embedding(in_vocab, units, input_length=in_timesteps, mask_zero=True))\n",
        "    model.add(LSTM(units))\n",
        "    model.add(RepeatVector(out_timesteps))\n",
        "    model.add(LSTM(units, return_sequences=True))\n",
        "    model.add(Dense(out_vocab, activation='softmax'))\n",
        "    return model"
      ],
      "metadata": {
        "id": "T6wtfHZSpeDZ"
      },
      "execution_count": 48,
      "outputs": []
    },
    {
      "cell_type": "code",
      "source": [
        "model = build_model(tam_vocab_size, tel_vocab_size, tam_length, tel_length, 512)\n",
        "rms = optimizers.RMSprop(lr=0.001)\n",
        "model.compile(optimizer=rms, loss='sparse_categorical_crossentropy')"
      ],
      "metadata": {
        "colab": {
          "base_uri": "https://localhost:8080/"
        },
        "id": "wCHQltA7phFG",
        "outputId": "4d203c0f-b77e-4d43-899b-b0949aed22e3"
      },
      "execution_count": 49,
      "outputs": [
        {
          "output_type": "stream",
          "name": "stderr",
          "text": [
            "/usr/local/lib/python3.7/dist-packages/keras/optimizers/optimizer_v2/rmsprop.py:135: UserWarning: The `lr` argument is deprecated, use `learning_rate` instead.\n",
            "  super(RMSprop, self).__init__(name, **kwargs)\n"
          ]
        }
      ]
    },
    {
      "cell_type": "code",
      "source": [
        "filename = 'model.h1.7_nov_22'\n",
        "checkpoint = ModelCheckpoint(filename, monitor='val_loss', verbose=1, save_best_only=True, mode='min')\n",
        "\n",
        "history = model.fit(trainX, trainY.reshape(trainY.shape[0], trainY.shape[1], 1), \n",
        "          epochs=30, batch_size=512, \n",
        "          validation_split = 0.2,\n",
        "          callbacks=[checkpoint], verbose=1)"
      ],
      "metadata": {
        "colab": {
          "base_uri": "https://localhost:8080/"
        },
        "id": "SK7-8k0tp3hO",
        "outputId": "6b73d4fc-8d7c-4ef9-8cdb-4c3f0b1abc47"
      },
      "execution_count": 50,
      "outputs": [
        {
          "output_type": "stream",
          "name": "stdout",
          "text": [
            "Epoch 1/30\n",
            "4/4 [==============================] - ETA: 0s - loss: 7.9608 \n",
            "Epoch 1: val_loss improved from inf to 3.10489, saving model to model.h1.7_nov_22\n"
          ]
        },
        {
          "output_type": "stream",
          "name": "stderr",
          "text": [
            "WARNING:absl:Found untraced functions such as lstm_cell_layer_call_fn, lstm_cell_layer_call_and_return_conditional_losses, lstm_cell_1_layer_call_fn, lstm_cell_1_layer_call_and_return_conditional_losses while saving (showing 4 of 4). These functions will not be directly callable after loading.\n"
          ]
        },
        {
          "output_type": "stream",
          "name": "stdout",
          "text": [
            "\b\b\b\b\b\b\b\b\b\b\b\b\b\b\b\b\b\b\b\b\b\b\b\b\b\b\b\b\b\b\b\b\b\b\b\b\b\b\b\b\b\b\b\b\b\b\b\b\b\b\b\b\b\b\b\b\b\b\b\b\b\r4/4 [==============================] - 125s 32s/step - loss: 7.9608 - val_loss: 3.1049\n",
            "Epoch 2/30\n",
            "4/4 [==============================] - ETA: 0s - loss: 3.0349 \n",
            "Epoch 2: val_loss improved from 3.10489 to 2.90138, saving model to model.h1.7_nov_22\n"
          ]
        },
        {
          "output_type": "stream",
          "name": "stderr",
          "text": [
            "WARNING:absl:Found untraced functions such as lstm_cell_layer_call_fn, lstm_cell_layer_call_and_return_conditional_losses, lstm_cell_1_layer_call_fn, lstm_cell_1_layer_call_and_return_conditional_losses while saving (showing 4 of 4). These functions will not be directly callable after loading.\n"
          ]
        },
        {
          "output_type": "stream",
          "name": "stdout",
          "text": [
            "\b\b\b\b\b\b\b\b\b\b\b\b\b\b\b\b\b\b\b\b\b\b\b\b\b\b\b\b\b\b\b\b\b\b\b\b\b\b\b\b\b\b\b\b\b\b\b\b\b\b\b\b\b\b\b\b\b\b\b\b\b\r4/4 [==============================] - 120s 31s/step - loss: 3.0349 - val_loss: 2.9014\n",
            "Epoch 3/30\n",
            "4/4 [==============================] - ETA: 0s - loss: 2.9184 \n",
            "Epoch 3: val_loss did not improve from 2.90138\n",
            "4/4 [==============================] - 102s 26s/step - loss: 2.9184 - val_loss: 2.9102\n",
            "Epoch 4/30\n",
            "4/4 [==============================] - ETA: 0s - loss: 3.1406 \n",
            "Epoch 4: val_loss did not improve from 2.90138\n",
            "4/4 [==============================] - 103s 26s/step - loss: 3.1406 - val_loss: 3.0413\n",
            "Epoch 5/30\n",
            "4/4 [==============================] - ETA: 0s - loss: 2.9003 \n",
            "Epoch 5: val_loss did not improve from 2.90138\n",
            "4/4 [==============================] - 102s 26s/step - loss: 2.9003 - val_loss: 2.9019\n",
            "Epoch 6/30\n",
            "4/4 [==============================] - ETA: 0s - loss: 2.8417 \n",
            "Epoch 6: val_loss did not improve from 2.90138\n",
            "4/4 [==============================] - 104s 26s/step - loss: 2.8417 - val_loss: 3.0207\n",
            "Epoch 7/30\n",
            "4/4 [==============================] - ETA: 0s - loss: 2.7753 \n",
            "Epoch 7: val_loss did not improve from 2.90138\n",
            "4/4 [==============================] - 102s 26s/step - loss: 2.7753 - val_loss: 2.9876\n",
            "Epoch 8/30\n",
            "4/4 [==============================] - ETA: 0s - loss: 2.8789 \n",
            "Epoch 8: val_loss improved from 2.90138 to 2.88965, saving model to model.h1.7_nov_22\n"
          ]
        },
        {
          "output_type": "stream",
          "name": "stderr",
          "text": [
            "WARNING:absl:Found untraced functions such as lstm_cell_layer_call_fn, lstm_cell_layer_call_and_return_conditional_losses, lstm_cell_1_layer_call_fn, lstm_cell_1_layer_call_and_return_conditional_losses while saving (showing 4 of 4). These functions will not be directly callable after loading.\n"
          ]
        },
        {
          "output_type": "stream",
          "name": "stdout",
          "text": [
            "\b\b\b\b\b\b\b\b\b\b\b\b\b\b\b\b\b\b\b\b\b\b\b\b\b\b\b\b\b\b\b\b\b\b\b\b\b\b\b\b\b\b\b\b\b\b\b\b\b\b\b\b\b\b\b\b\b\b\b\b\b\r4/4 [==============================] - 119s 32s/step - loss: 2.8789 - val_loss: 2.8896\n",
            "Epoch 9/30\n",
            "4/4 [==============================] - ETA: 0s - loss: 2.7265 \n",
            "Epoch 9: val_loss did not improve from 2.88965\n",
            "4/4 [==============================] - 102s 26s/step - loss: 2.7265 - val_loss: 3.0503\n",
            "Epoch 10/30\n",
            "4/4 [==============================] - ETA: 0s - loss: 2.7005 \n",
            "Epoch 10: val_loss improved from 2.88965 to 2.82413, saving model to model.h1.7_nov_22\n"
          ]
        },
        {
          "output_type": "stream",
          "name": "stderr",
          "text": [
            "WARNING:absl:Found untraced functions such as lstm_cell_layer_call_fn, lstm_cell_layer_call_and_return_conditional_losses, lstm_cell_1_layer_call_fn, lstm_cell_1_layer_call_and_return_conditional_losses while saving (showing 4 of 4). These functions will not be directly callable after loading.\n"
          ]
        },
        {
          "output_type": "stream",
          "name": "stdout",
          "text": [
            "\b\b\b\b\b\b\b\b\b\b\b\b\b\b\b\b\b\b\b\b\b\b\b\b\b\b\b\b\b\b\b\b\b\b\b\b\b\b\b\b\b\b\b\b\b\b\b\b\b\b\b\b\b\b\b\b\b\b\b\b\b\r4/4 [==============================] - 118s 32s/step - loss: 2.7005 - val_loss: 2.8241\n",
            "Epoch 11/30\n",
            "4/4 [==============================] - ETA: 0s - loss: 2.6467 \n",
            "Epoch 11: val_loss improved from 2.82413 to 2.82044, saving model to model.h1.7_nov_22\n"
          ]
        },
        {
          "output_type": "stream",
          "name": "stderr",
          "text": [
            "WARNING:absl:Found untraced functions such as lstm_cell_layer_call_fn, lstm_cell_layer_call_and_return_conditional_losses, lstm_cell_1_layer_call_fn, lstm_cell_1_layer_call_and_return_conditional_losses while saving (showing 4 of 4). These functions will not be directly callable after loading.\n"
          ]
        },
        {
          "output_type": "stream",
          "name": "stdout",
          "text": [
            "\b\b\b\b\b\b\b\b\b\b\b\b\b\b\b\b\b\b\b\b\b\b\b\b\b\b\b\b\b\b\b\b\b\b\b\b\b\b\b\b\b\b\b\b\b\b\b\b\b\b\b\b\b\b\b\b\b\b\b\b\b\r4/4 [==============================] - 116s 31s/step - loss: 2.6467 - val_loss: 2.8204\n",
            "Epoch 12/30\n",
            "4/4 [==============================] - ETA: 0s - loss: 2.7546 \n",
            "Epoch 12: val_loss did not improve from 2.82044\n",
            "4/4 [==============================] - 103s 26s/step - loss: 2.7546 - val_loss: 3.0035\n",
            "Epoch 13/30\n",
            "4/4 [==============================] - ETA: 0s - loss: 2.6969 \n",
            "Epoch 13: val_loss did not improve from 2.82044\n",
            "4/4 [==============================] - 101s 26s/step - loss: 2.6969 - val_loss: 2.9068\n",
            "Epoch 14/30\n",
            "4/4 [==============================] - ETA: 0s - loss: 2.6168 \n",
            "Epoch 14: val_loss did not improve from 2.82044\n",
            "4/4 [==============================] - 102s 27s/step - loss: 2.6168 - val_loss: 3.0161\n",
            "Epoch 15/30\n",
            "4/4 [==============================] - ETA: 0s - loss: 2.5679 \n",
            "Epoch 15: val_loss did not improve from 2.82044\n",
            "4/4 [==============================] - 102s 26s/step - loss: 2.5679 - val_loss: 3.0333\n",
            "Epoch 16/30\n",
            "4/4 [==============================] - ETA: 0s - loss: 2.6293 \n",
            "Epoch 16: val_loss did not improve from 2.82044\n",
            "4/4 [==============================] - 101s 26s/step - loss: 2.6293 - val_loss: 3.7161\n",
            "Epoch 17/30\n",
            "4/4 [==============================] - ETA: 0s - loss: 3.6614 \n",
            "Epoch 17: val_loss did not improve from 2.82044\n",
            "4/4 [==============================] - 100s 25s/step - loss: 3.6614 - val_loss: 3.7921\n",
            "Epoch 18/30\n",
            "4/4 [==============================] - ETA: 0s - loss: 3.2763 \n",
            "Epoch 18: val_loss did not improve from 2.82044\n",
            "4/4 [==============================] - 102s 26s/step - loss: 3.2763 - val_loss: 3.1493\n",
            "Epoch 19/30\n",
            "4/4 [==============================] - ETA: 0s - loss: 3.2101 \n",
            "Epoch 19: val_loss did not improve from 2.82044\n",
            "4/4 [==============================] - 100s 25s/step - loss: 3.2101 - val_loss: 3.0438\n",
            "Epoch 20/30\n",
            "4/4 [==============================] - ETA: 0s - loss: 2.9024 \n",
            "Epoch 20: val_loss did not improve from 2.82044\n",
            "4/4 [==============================] - 101s 26s/step - loss: 2.9024 - val_loss: 3.0054\n",
            "Epoch 21/30\n",
            "4/4 [==============================] - ETA: 0s - loss: 2.8263 \n",
            "Epoch 21: val_loss did not improve from 2.82044\n",
            "4/4 [==============================] - 103s 26s/step - loss: 2.8263 - val_loss: 2.9650\n",
            "Epoch 22/30\n",
            "4/4 [==============================] - ETA: 0s - loss: 2.7421 \n",
            "Epoch 22: val_loss did not improve from 2.82044\n",
            "4/4 [==============================] - 100s 25s/step - loss: 2.7421 - val_loss: 2.9068\n",
            "Epoch 23/30\n",
            "4/4 [==============================] - ETA: 0s - loss: 2.6475 \n",
            "Epoch 23: val_loss did not improve from 2.82044\n",
            "4/4 [==============================] - 102s 26s/step - loss: 2.6475 - val_loss: 3.0344\n",
            "Epoch 24/30\n",
            "4/4 [==============================] - ETA: 0s - loss: 2.7120 \n",
            "Epoch 24: val_loss did not improve from 2.82044\n",
            "4/4 [==============================] - 101s 26s/step - loss: 2.7120 - val_loss: 2.8865\n",
            "Epoch 25/30\n",
            "4/4 [==============================] - ETA: 0s - loss: 2.5704 \n",
            "Epoch 25: val_loss did not improve from 2.82044\n",
            "4/4 [==============================] - 102s 26s/step - loss: 2.5704 - val_loss: 2.9470\n",
            "Epoch 26/30\n",
            "4/4 [==============================] - ETA: 0s - loss: 2.5993 \n",
            "Epoch 26: val_loss did not improve from 2.82044\n",
            "4/4 [==============================] - 98s 25s/step - loss: 2.5993 - val_loss: 2.8720\n",
            "Epoch 27/30\n",
            "4/4 [==============================] - ETA: 0s - loss: 2.5185 \n",
            "Epoch 27: val_loss did not improve from 2.82044\n",
            "4/4 [==============================] - 102s 26s/step - loss: 2.5185 - val_loss: 2.8716\n",
            "Epoch 28/30\n",
            "4/4 [==============================] - ETA: 0s - loss: 2.4465 \n",
            "Epoch 28: val_loss did not improve from 2.82044\n",
            "4/4 [==============================] - 100s 25s/step - loss: 2.4465 - val_loss: 2.9221\n",
            "Epoch 29/30\n",
            "4/4 [==============================] - ETA: 0s - loss: 2.4911 \n",
            "Epoch 29: val_loss did not improve from 2.82044\n",
            "4/4 [==============================] - 102s 26s/step - loss: 2.4911 - val_loss: 2.9317\n",
            "Epoch 30/30\n",
            "4/4 [==============================] - ETA: 0s - loss: 2.4544 \n",
            "Epoch 30: val_loss did not improve from 2.82044\n",
            "4/4 [==============================] - 100s 26s/step - loss: 2.4544 - val_loss: 2.9188\n"
          ]
        }
      ]
    },
    {
      "cell_type": "code",
      "source": [
        "plt.plot(history.history['loss'])\n",
        "plt.plot(history.history['val_loss'])\n",
        "plt.legend(['train','validation'])\n",
        "plt.show()"
      ],
      "metadata": {
        "colab": {
          "base_uri": "https://localhost:8080/",
          "height": 265
        },
        "id": "eeaMgP4u18fa",
        "outputId": "648eaa7d-cde2-495d-f7ac-005d89fb9217"
      },
      "execution_count": 51,
      "outputs": [
        {
          "output_type": "display_data",
          "data": {
            "text/plain": [
              "<Figure size 432x288 with 1 Axes>"
            ],
            "image/png": "[encoded data removed]"
          },
          "metadata": {
            "needs_background": "light"
          }
        }
      ]
    },
    {
      "cell_type": "code",
      "source": [
        "model = load_model('model.h1.7_nov_22')\n",
        "# preds = model.predict(testX.reshape((testX.shape[0],testX.shape[1])))\n",
        "predictions = np.argmax(model.predict(testX.reshape((testX.shape[0],testX.shape[1]))),axis=1)"
      ],
      "metadata": {
        "colab": {
          "base_uri": "https://localhost:8080/"
        },
        "id": "h6o8syXG2ESY",
        "outputId": "3f6bfdc7-9104-4ce0-eea8-26080cd6f87c"
      },
      "execution_count": 57,
      "outputs": [
        {
          "output_type": "stream",
          "name": "stdout",
          "text": [
            "20/20 [==============================] - 12s 512ms/step\n"
          ]
        }
      ]
    },
    {
      "cell_type": "code",
      "source": [
        "def get_word(n, tokenizer):\n",
        "      for word, index in tokenizer.word_index.items():\n",
        "          if index == n:\n",
        "              return word\n",
        "      return None"
      ],
      "metadata": {
        "id": "eXKq_iIB3b1X"
      },
      "execution_count": 58,
      "outputs": []
    },
    {
      "cell_type": "code",
      "source": [
        "model.summary()"
      ],
      "metadata": {
        "colab": {
          "base_uri": "https://localhost:8080/"
        },
        "id": "HBCqCzOJM0ZA",
        "outputId": "f4cd4f3d-de3b-4846-8c79-5e01e9ab803a"
      },
      "execution_count": 61,
      "outputs": [
        {
          "output_type": "stream",
          "name": "stdout",
          "text": [
            "Model: \"sequential\"\n",
            "_________________________________________________________________\n",
            " Layer (type)                Output Shape              Param #   \n",
            "=================================================================\n",
            " embedding (Embedding)       (None, 8, 512)            6829568   \n",
            "                                                                 \n",
            " lstm (LSTM)                 (None, 512)               2099200   \n",
            "                                                                 \n",
            " repeat_vector (RepeatVector  (None, 42, 512)          0         \n",
            " )                                                               \n",
            "                                                                 \n",
            " lstm_1 (LSTM)               (None, 42, 512)           2099200   \n",
            "                                                                 \n",
            " dense (Dense)               (None, 42, 13300)         6822900   \n",
            "                                                                 \n",
            "=================================================================\n",
            "Total params: 17,850,868\n",
            "Trainable params: 17,850,868\n",
            "Non-trainable params: 0\n",
            "_________________________________________________________________\n"
          ]
        }
      ]
    },
    {
      "cell_type": "code",
      "source": [
        "model.save('/content/drive/MyDrive/saved_model/my_model1')"
      ],
      "metadata": {
        "colab": {
          "base_uri": "https://localhost:8080/"
        },
        "id": "QqVyqLyQNj7O",
        "outputId": "306cc75d-8dfa-4c13-eca8-d9addfb42ec7"
      },
      "execution_count": 64,
      "outputs": [
        {
          "output_type": "stream",
          "name": "stderr",
          "text": [
            "WARNING:absl:Found untraced functions such as lstm_cell_4_layer_call_fn, lstm_cell_4_layer_call_and_return_conditional_losses, lstm_cell_5_layer_call_fn, lstm_cell_5_layer_call_and_return_conditional_losses while saving (showing 4 of 4). These functions will not be directly callable after loading.\n"
          ]
        }
      ]
    },
    {
      "cell_type": "code",
      "source": [
        "len(predictions)"
      ],
      "metadata": {
        "colab": {
          "base_uri": "https://localhost:8080/"
        },
        "id": "yMt-xMx3OFXd",
        "outputId": "322584d3-2fe3-4d42-f935-750bd849b060"
      },
      "execution_count": 66,
      "outputs": [
        {
          "output_type": "execute_result",
          "data": {
            "text/plain": [
              "620"
            ]
          },
          "metadata": {},
          "execution_count": 66
        }
      ]
    },
    {
      "cell_type": "code",
      "source": [
        "preds_text = []\n",
        "for i in predictions[:1]:\n",
        "       print(i)\n",
        "       temp = []\n",
        "       for j in range(len(i)):\n",
        "            t = get_word(i[j], tel_tokenizer)\n",
        "            if j > 0:\n",
        "                if (t == get_word(i[j-1], tel_tokenizer)) or (t == None):\n",
        "                     temp.append('')\n",
        "                else:\n",
        "                     temp.append(t)\n",
        "            else:\n",
        "                   if(t == None):\n",
        "                          temp.append('')\n",
        "                   else:\n",
        "                          temp.append(t) \n",
        "\n",
        "       preds_text.append(' '.join(temp))"
      ],
      "metadata": {
        "colab": {
          "base_uri": "https://localhost:8080/"
        },
        "id": "prQS_q043pyS",
        "outputId": "8e884d52-208c-48d1-9822-a9f6cc662ed0"
      },
      "execution_count": 69,
      "outputs": [
        {
          "output_type": "stream",
          "name": "stdout",
          "text": [
            "[41  3  5 ...  0  0  0]\n"
          ]
        }
      ]
    },
    {
      "cell_type": "code",
      "source": [
        "pred_df = pd.DataFrame({'actual' : test[:1,0], 'predicted' : preds_text})"
      ],
      "metadata": {
        "id": "s-ScISMLQr96"
      },
      "execution_count": 70,
      "outputs": []
    },
    {
      "cell_type": "code",
      "source": [
        "pd.set_option('display.max_colwidth', 200)"
      ],
      "metadata": {
        "id": "Pe_4Ij9HRKyJ"
      },
      "execution_count": 71,
      "outputs": []
    },
    {
      "cell_type": "code",
      "source": [
        "pred_df.head()"
      ],
      "metadata": {
        "id": "uah90plaRNtG"
      },
      "execution_count": null,
      "outputs": []
    }
  ]
}